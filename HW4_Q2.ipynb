{
  "nbformat": 4,
  "nbformat_minor": 0,
  "metadata": {
    "colab": {
      "provenance": [],
      "authorship_tag": "ABX9TyO6SFpnyrNSUwrwaOGCmLiH",
      "include_colab_link": true
    },
    "kernelspec": {
      "name": "python3",
      "display_name": "Python 3"
    },
    "language_info": {
      "name": "python"
    }
  },
  "cells": [
    {
      "cell_type": "markdown",
      "metadata": {
        "id": "view-in-github",
        "colab_type": "text"
      },
      "source": [
        "<a href=\"https://colab.research.google.com/github/alec-carawan/Intro-to-Machine-Learning/blob/main/HW4_Q2.ipynb\" target=\"_parent\"><img src=\"https://colab.research.google.com/assets/colab-badge.svg\" alt=\"Open In Colab\"/></a>"
      ]
    },
    {
      "cell_type": "code",
      "execution_count": 264,
      "metadata": {
        "id": "WJ6kAaTT1NYE"
      },
      "outputs": [],
      "source": [
        "import numpy as np\n",
        "import pandas as pd\n",
        "import matplotlib.pyplot as plt\n",
        "from sklearn.model_selection import KFold\n",
        "from sklearn.decomposition import PCA\n",
        "from sklearn.model_selection import cross_val_score\n",
        "from sklearn.linear_model import LogisticRegression\n",
        "from sklearn import datasets\n",
        "from sklearn.metrics import confusion_matrix\n",
        "from sklearn.metrics import classification_report\n",
        "from sklearn.model_selection import train_test_split\n",
        "from sklearn.preprocessing import StandardScaler\n",
        "import seaborn as sns"
      ]
    },
    {
      "cell_type": "code",
      "source": [
        "cancerURL    =  'https://raw.githubusercontent.com/alec-carawan/datasets/main/cancer.csv'\n",
        "housingURL   =  'https://raw.githubusercontent.com/alec-carawan/datasets/main/Housing.csv'\n",
        "\n",
        "cancerSet    =   pd.read_csv(cancerURL)\n",
        "housingSet   =   pd.read_csv(housingURL)"
      ],
      "metadata": {
        "id": "UPJHkMeg1U_o"
      },
      "execution_count": 265,
      "outputs": []
    },
    {
      "cell_type": "code",
      "source": [
        "# List of variables to map\n",
        "\n",
        "varlist =  ['mainroad', 'guestroom', 'basement', 'hotwaterheating', 'airconditioning', 'prefarea']\n",
        "\n",
        "# Defining the map function\n",
        "def binary_map(x):\n",
        "    return x.map({'yes': 1, 'no': 0})\n",
        "\n",
        "# Applying the function to the housing list\n",
        "housingSet[varlist] = housingSet[varlist].apply(binary_map)\n",
        "\n",
        "#map furnishing status\n",
        "housingSet['furnishingstatus'] = housingSet['furnishingstatus'].map({'furnished': 2, 'semi-furnished': 1, 'unfurnished': 0})"
      ],
      "metadata": {
        "id": "mJuQGeV85kyF"
      },
      "execution_count": 266,
      "outputs": []
    },
    {
      "cell_type": "code",
      "source": [
        "#STANDARDIZE DATA\n",
        "\n",
        "from sklearn.preprocessing import MinMaxScaler\n",
        "scaler = MinMaxScaler()\n",
        "\n",
        "num_vars = ['price','area','bedrooms','bathrooms','stories','mainroad','guestroom','basement','hotwaterheating','airconditioning','parking','prefarea','furnishingstatus']\n",
        "#using num_vars keeps data types as data frames, instead of np arrays\n",
        "\n",
        "housingSet[num_vars] = scaler.fit_transform(housingSet[num_vars])"
      ],
      "metadata": {
        "id": "PLuuhkn8gJhN"
      },
      "execution_count": 267,
      "outputs": []
    },
    {
      "cell_type": "code",
      "source": [
        "features = ['area','bedrooms','bathrooms','stories','mainroad','guestroom','basement','hotwaterheating','airconditioning','parking','prefarea']\n",
        "# Separating out the features\n",
        "X = housingSet.loc[:, features].values\n",
        "# Separating out the target\n",
        "y = housingSet.loc[:,['price']].values"
      ],
      "metadata": {
        "id": "z1Lu6XHvgEtm"
      },
      "execution_count": 268,
      "outputs": []
    },
    {
      "cell_type": "code",
      "source": [
        "from sklearn.model_selection import train_test_split\n",
        "\n",
        "X_train, X_test, y_train, y_test = train_test_split(X, y, train_size = 0.8, test_size = 0.2, )"
      ],
      "metadata": {
        "id": "xpjCAZdpiMPF"
      },
      "execution_count": 269,
      "outputs": []
    },
    {
      "cell_type": "code",
      "source": [
        "from sklearn.svm import SVR\n",
        "import matplotlib.pyplot as plt\n",
        "\n",
        "svr_rbf = SVR(kernel='rbf', C=1e3, gamma=0.1)\n",
        "svr_lin = SVR(kernel='linear', C=1e3)\n",
        "svr_poly = SVR(kernel='poly', C=1e3, degree=2)\n",
        "y_rbf = svr_rbf.fit(X_train, y_train).predict(X_test)\n",
        "y_lin = svr_lin.fit(X_train, y_train).predict(X_test)\n",
        "y_poly = svr_poly.fit(X_train, y_train).predict(X_test)"
      ],
      "metadata": {
        "id": "ZzK8B64k6CpG",
        "colab": {
          "base_uri": "https://localhost:8080/"
        },
        "outputId": "25854310-ef60-4b96-b954-5da1aef94b69"
      },
      "execution_count": 270,
      "outputs": [
        {
          "output_type": "stream",
          "name": "stderr",
          "text": [
            "/usr/local/lib/python3.10/dist-packages/sklearn/utils/validation.py:1143: DataConversionWarning: A column-vector y was passed when a 1d array was expected. Please change the shape of y to (n_samples, ), for example using ravel().\n",
            "  y = column_or_1d(y, warn=True)\n",
            "/usr/local/lib/python3.10/dist-packages/sklearn/utils/validation.py:1143: DataConversionWarning: A column-vector y was passed when a 1d array was expected. Please change the shape of y to (n_samples, ), for example using ravel().\n",
            "  y = column_or_1d(y, warn=True)\n",
            "/usr/local/lib/python3.10/dist-packages/sklearn/utils/validation.py:1143: DataConversionWarning: A column-vector y was passed when a 1d array was expected. Please change the shape of y to (n_samples, ), for example using ravel().\n",
            "  y = column_or_1d(y, warn=True)\n"
          ]
        }
      ]
    },
    {
      "cell_type": "markdown",
      "source": [
        "Q2.1)\n",
        "\n",
        "Plot your regression model for SVR similar to the sample code provided on Canvas"
      ],
      "metadata": {
        "id": "sSrjkOrjvgzp"
      }
    },
    {
      "cell_type": "code",
      "source": [
        "from sklearn.metrics import mean_absolute_error, mean_squared_error, r2_score\n",
        "\n",
        "mae = mean_absolute_error(y_test, y_rbf)\n",
        "mse = mean_squared_error(y_test, y_rbf)\n",
        "rmse = np.sqrt(mse)\n",
        "r2 = r2_score(y_test, y_rbf)\n",
        "\n",
        "print(\"RBF Results\\n\")\n",
        "print(\"Mean Absolute Error (MAE):\", mae)\n",
        "print(\"Mean Squared Error (MSE):\", mse)\n",
        "print(\"Root Mean Squared Error (RMSE):\", rmse)\n",
        "print(\"R-squared (R2) Score:\", r2)"
      ],
      "metadata": {
        "colab": {
          "base_uri": "https://localhost:8080/"
        },
        "id": "waes9TfojrLj",
        "outputId": "5de7f87d-ea77-456c-da87-760abb05dd74"
      },
      "execution_count": 271,
      "outputs": [
        {
          "output_type": "stream",
          "name": "stdout",
          "text": [
            "RBF Results\n",
            "\n",
            "Mean Absolute Error (MAE): 0.08019441189014673\n",
            "Mean Squared Error (MSE): 0.011986744156004543\n",
            "Root Mean Squared Error (RMSE): 0.10948399040957789\n",
            "R-squared (R2) Score: 0.4956369420752499\n"
          ]
        }
      ]
    },
    {
      "cell_type": "code",
      "source": [
        "plt.scatter(y_test, y_rbf)\n",
        "plt.xlabel(\"True Values\")\n",
        "plt.ylabel(\"RBF Predicted Values\")\n",
        "plt.title(\"SVR: True vs. Predicted Values\")\n",
        "plt.show()"
      ],
      "metadata": {
        "colab": {
          "base_uri": "https://localhost:8080/",
          "height": 472
        },
        "id": "sNwUHD2wj_xO",
        "outputId": "0cb61b50-d684-48c2-e4db-8c069fb1a084"
      },
      "execution_count": 272,
      "outputs": [
        {
          "output_type": "display_data",
          "data": {
            "text/plain": [
              "<Figure size 640x480 with 1 Axes>"
            ],
            "image/png": "[encoded data removed]"
          },
          "metadata": {}
        }
      ]
    },
    {
      "cell_type": "code",
      "source": [
        "mae = mean_absolute_error(y_test, y_lin)\n",
        "mse = mean_squared_error(y_test, y_lin)\n",
        "rmse = np.sqrt(mse)\n",
        "r2 = r2_score(y_test, y_lin)\n",
        "\n",
        "print(\"Linear Results\\n\")\n",
        "print(\"Mean Absolute Error (MAE):\", mae)\n",
        "print(\"Mean Squared Error (MSE):\", mse)\n",
        "print(\"Root Mean Squared Error (RMSE):\", rmse)\n",
        "print(\"R-squared (R2) Score:\", r2)"
      ],
      "metadata": {
        "colab": {
          "base_uri": "https://localhost:8080/"
        },
        "id": "JD0Xu_EV2t5G",
        "outputId": "7c03512b-b732-44df-ab8b-4eb42cea1287"
      },
      "execution_count": 273,
      "outputs": [
        {
          "output_type": "stream",
          "name": "stdout",
          "text": [
            "Linear Results\n",
            "\n",
            "Mean Absolute Error (MAE): 0.06794985013010738\n",
            "Mean Squared Error (MSE): 0.007849794702078217\n",
            "Root Mean Squared Error (RMSE): 0.08859906716257354\n",
            "R-squared (R2) Score: 0.6697062681496868\n"
          ]
        }
      ]
    },
    {
      "cell_type": "code",
      "source": [
        "plt.scatter(y_test, y_lin)\n",
        "plt.xlabel(\"True Values\")\n",
        "plt.ylabel(\"Linear Predicted Values\")\n",
        "plt.title(\"SVR: True vs. Predicted Values\")\n",
        "plt.show()"
      ],
      "metadata": {
        "colab": {
          "base_uri": "https://localhost:8080/",
          "height": 472
        },
        "id": "TWSJwdtX4aT3",
        "outputId": "ec4eaf01-6b40-43e2-9cf9-59ffbe2b88d9"
      },
      "execution_count": 274,
      "outputs": [
        {
          "output_type": "display_data",
          "data": {
            "text/plain": [
              "<Figure size 640x480 with 1 Axes>"
            ],
            "image/png": "[encoded data removed]"
          },
          "metadata": {}
        }
      ]
    },
    {
      "cell_type": "code",
      "source": [
        "mae = mean_absolute_error(y_test, y_poly)\n",
        "mse = mean_squared_error(y_test, y_poly)\n",
        "rmse = np.sqrt(mse)\n",
        "r2 = r2_score(y_test, y_poly)\n",
        "\n",
        "print(\"Polynomial Results\\n\")\n",
        "print(\"Mean Absolute Error (MAE):\", mae)\n",
        "print(\"Mean Squared Error (MSE):\", mse)\n",
        "print(\"Root Mean Squared Error (RMSE):\", rmse)\n",
        "print(\"R-squared (R2) Score:\", r2)"
      ],
      "metadata": {
        "colab": {
          "base_uri": "https://localhost:8080/"
        },
        "id": "Yk23DsUJ4t7s",
        "outputId": "a74307f1-9715-4d99-b41c-59b3a5580a3a"
      },
      "execution_count": 275,
      "outputs": [
        {
          "output_type": "stream",
          "name": "stdout",
          "text": [
            "Polynomial Results\n",
            "\n",
            "Mean Absolute Error (MAE): 0.06379312901116806\n",
            "Mean Squared Error (MSE): 0.0069343255678093905\n",
            "Root Mean Squared Error (RMSE): 0.08327259794079557\n",
            "R-squared (R2) Score: 0.7082262203557457\n"
          ]
        }
      ]
    },
    {
      "cell_type": "code",
      "source": [
        "plt.scatter(y_test, y_poly)\n",
        "plt.xlabel(\"True Values\")\n",
        "plt.ylabel(\"Polynomial Predicted Values\")\n",
        "plt.title(\"SVR: True vs. Predicted Values\")\n",
        "plt.show()"
      ],
      "metadata": {
        "colab": {
          "base_uri": "https://localhost:8080/",
          "height": 472
        },
        "id": "Wlnd5cvE4tjp",
        "outputId": "1fec96ed-ac45-434a-8e8b-6074190cdfbc"
      },
      "execution_count": 276,
      "outputs": [
        {
          "output_type": "display_data",
          "data": {
            "text/plain": [
              "<Figure size 640x480 with 1 Axes>"
            ],
            "image/png": "[encoded data removed]"
          },
          "metadata": {}
        }
      ]
    },
    {
      "cell_type": "markdown",
      "source": [
        "Q2.3)\n",
        "\n",
        "Use the PCA feature extraction for your training. Perform N number of independent training (N=1, …, K). Identify the optimum number of K, principal components that achieve the highest regression accuracy."
      ],
      "metadata": {
        "id": "-YPCFc-m5k33"
      }
    },
    {
      "cell_type": "code",
      "source": [
        "def feature_reduction(X, K):\n",
        "\n",
        "    pca = PCA(n_components=K)\n",
        "    principalComponents = pca.fit_transform(X)\n",
        "\n",
        "    principalDf = pd.DataFrame(data = principalComponents)\n",
        "\n",
        "    #name columns\n",
        "    for i in range(0, K):\n",
        "        principalDf = principalDf.rename(columns={principalDf.columns[i]: \"principal component \"+ str(i + 1)})\n",
        "\n",
        "    return principalDf"
      ],
      "metadata": {
        "id": "ksib2-ZTAPEr"
      },
      "execution_count": 311,
      "outputs": []
    },
    {
      "cell_type": "code",
      "source": [
        "#convert to DFs for PCA\n",
        "X_train = pd.DataFrame(X_train)\n",
        "y_train = pd.DataFrame(y_train)\n",
        "\n",
        "X_test = pd.DataFrame(X_test)\n",
        "y_test = pd.DataFrame(y_test)"
      ],
      "metadata": {
        "id": "2DCVeCOLBp1Y"
      },
      "execution_count": 296,
      "outputs": []
    },
    {
      "cell_type": "code",
      "source": [
        "one_var_PCA_train = feature_reduction(X_train, 1)\n",
        "two_var_PCA_train = feature_reduction(X_train, 2)\n",
        "three_var_PCA_train = feature_reduction(X_train, 3)\n",
        "four_var_PCA_train = feature_reduction(X_train, 4)\n",
        "five_var_PCA_train = feature_reduction(X_train, 5)\n",
        "six_var_PCA_train = feature_reduction(X_train, 6)\n",
        "seven_var_PCA_train = feature_reduction(X_train, 7)\n",
        "eight_var_PCA_train = feature_reduction(X_train, 8)\n",
        "nine_var_PCA_train = feature_reduction(X_train, 9)\n",
        "\n",
        "one_var_PCA_test = feature_reduction(X_test, 1)\n",
        "two_var_PCA_test = feature_reduction(X_test, 2)\n",
        "three_var_PCA_test = feature_reduction(X_test, 3)\n",
        "four_var_PCA_test = feature_reduction(X_test, 4)\n",
        "five_var_PCA_test = feature_reduction(X_test, 5)\n",
        "six_var_PCA_test = feature_reduction(X_test, 6)\n",
        "seven_var_PCA_test = feature_reduction(X_test, 7)\n",
        "eight_var_PCA_test = feature_reduction(X_test, 8)\n",
        "nine_var_PCA_test = feature_reduction(X_test, 9)"
      ],
      "metadata": {
        "id": "n7Fl4uK_BUqv"
      },
      "execution_count": 316,
      "outputs": []
    },
    {
      "cell_type": "markdown",
      "source": [
        "I will evaluate the accuracy of K for PCA using the mean squared error of linear SVR"
      ],
      "metadata": {
        "id": "nw7Q69_08xKP"
      }
    },
    {
      "cell_type": "code",
      "source": [
        "svr_lin = SVR(kernel='linear', C=1e3)\n",
        "\n",
        "#X.reshape(-1, 1)\n",
        "\n",
        "y_lin_one_var = svr_lin.fit(one_var_PCA_train, y_train).predict(one_var_PCA_test)\n",
        "y_lin_two_var = svr_lin.fit(two_var_PCA_train, y_train).predict(two_var_PCA_test)\n",
        "y_lin_three_var = svr_lin.fit(three_var_PCA_train, y_train).predict(three_var_PCA_test)\n",
        "y_lin_four_var = svr_lin.fit(four_var_PCA_train, y_train).predict(four_var_PCA_test)\n",
        "y_lin_five_var = svr_lin.fit(five_var_PCA_train, y_train).predict(five_var_PCA_test)\n",
        "y_lin_six_var = svr_lin.fit(six_var_PCA_train, y_train).predict(six_var_PCA_test)\n",
        "y_lin_seven_var = svr_lin.fit(seven_var_PCA_train, y_train).predict(seven_var_PCA_test)\n",
        "y_lin_eight_var = svr_lin.fit(eight_var_PCA_train, y_train).predict(eight_var_PCA_test)\n",
        "y_lin_nine_var = svr_lin.fit(nine_var_PCA_train, y_train).predict(nine_var_PCA_test)\n",
        "\n",
        "mse_one_var = mean_squared_error(y_test, y_lin_one_var)\n",
        "mse_two_var = mean_squared_error(y_test, y_lin_two_var)\n",
        "mse_three_var = mean_squared_error(y_test, y_lin_three_var)\n",
        "mse_four_var = mean_squared_error(y_test, y_lin_four_var)\n",
        "mse_five_var = mean_squared_error(y_test, y_lin_five_var)\n",
        "mse_six_var = mean_squared_error(y_test, y_lin_six_var)\n",
        "mse_seven_var = mean_squared_error(y_test, y_lin_seven_var)\n",
        "mse_eight_var = mean_squared_error(y_test, y_lin_eight_var)\n",
        "mse_nine_var = mean_squared_error(y_test, y_lin_nine_var)\n",
        "\n",
        "print(\"Mean Squared Error of 1 variable PCA:\", mse_one_var)\n",
        "print(\"Mean Squared Error of 2 variable PCA:\", mse_two_var)\n",
        "print(\"Mean Squared Error of 3 variable PCA:\", mse_three_var)\n",
        "print(\"Mean Squared Error of 4 variable PCA:\", mse_four_var)\n",
        "print(\"Mean Squared Error of 5 variable PCA:\", mse_five_var)\n",
        "print(\"Mean Squared Error of 6 variable PCA:\", mse_six_var)\n",
        "print(\"Mean Squared Error of 7 variable PCA:\", mse_seven_var)\n",
        "print(\"Mean Squared Error of 8 variable PCA:\", mse_eight_var)\n",
        "print(\"Mean Squared Error of 9 variable PCA:\", mse_nine_var)\n"
      ],
      "metadata": {
        "colab": {
          "base_uri": "https://localhost:8080/"
        },
        "id": "uLMQ7MiV8boA",
        "outputId": "a41d2e55-9155-4d28-f85d-37c13657698e"
      },
      "execution_count": 320,
      "outputs": [
        {
          "output_type": "stream",
          "name": "stderr",
          "text": [
            "/usr/local/lib/python3.10/dist-packages/sklearn/utils/validation.py:1143: DataConversionWarning: A column-vector y was passed when a 1d array was expected. Please change the shape of y to (n_samples, ), for example using ravel().\n",
            "  y = column_or_1d(y, warn=True)\n",
            "/usr/local/lib/python3.10/dist-packages/sklearn/utils/validation.py:1143: DataConversionWarning: A column-vector y was passed when a 1d array was expected. Please change the shape of y to (n_samples, ), for example using ravel().\n",
            "  y = column_or_1d(y, warn=True)\n",
            "/usr/local/lib/python3.10/dist-packages/sklearn/utils/validation.py:1143: DataConversionWarning: A column-vector y was passed when a 1d array was expected. Please change the shape of y to (n_samples, ), for example using ravel().\n",
            "  y = column_or_1d(y, warn=True)\n",
            "/usr/local/lib/python3.10/dist-packages/sklearn/utils/validation.py:1143: DataConversionWarning: A column-vector y was passed when a 1d array was expected. Please change the shape of y to (n_samples, ), for example using ravel().\n",
            "  y = column_or_1d(y, warn=True)\n",
            "/usr/local/lib/python3.10/dist-packages/sklearn/utils/validation.py:1143: DataConversionWarning: A column-vector y was passed when a 1d array was expected. Please change the shape of y to (n_samples, ), for example using ravel().\n",
            "  y = column_or_1d(y, warn=True)\n",
            "/usr/local/lib/python3.10/dist-packages/sklearn/utils/validation.py:1143: DataConversionWarning: A column-vector y was passed when a 1d array was expected. Please change the shape of y to (n_samples, ), for example using ravel().\n",
            "  y = column_or_1d(y, warn=True)\n",
            "/usr/local/lib/python3.10/dist-packages/sklearn/utils/validation.py:1143: DataConversionWarning: A column-vector y was passed when a 1d array was expected. Please change the shape of y to (n_samples, ), for example using ravel().\n",
            "  y = column_or_1d(y, warn=True)\n",
            "/usr/local/lib/python3.10/dist-packages/sklearn/utils/validation.py:1143: DataConversionWarning: A column-vector y was passed when a 1d array was expected. Please change the shape of y to (n_samples, ), for example using ravel().\n",
            "  y = column_or_1d(y, warn=True)\n",
            "/usr/local/lib/python3.10/dist-packages/sklearn/utils/validation.py:1143: DataConversionWarning: A column-vector y was passed when a 1d array was expected. Please change the shape of y to (n_samples, ), for example using ravel().\n",
            "  y = column_or_1d(y, warn=True)\n"
          ]
        },
        {
          "output_type": "stream",
          "name": "stdout",
          "text": [
            "Mean Squared Error of 1 variable PCA: 0.020510047347818503\n",
            "Mean Squared Error of 2 variable PCA: 0.013320932963582197\n",
            "Mean Squared Error of 3 variable PCA: 0.012981639309364452\n",
            "Mean Squared Error of 4 variable PCA: 0.014592588509238773\n",
            "Mean Squared Error of 5 variable PCA: 0.014707497880948469\n",
            "Mean Squared Error of 6 variable PCA: 0.017797565308055492\n",
            "Mean Squared Error of 7 variable PCA: 0.017704519475080494\n",
            "Mean Squared Error of 8 variable PCA: 0.01805364079714768\n",
            "Mean Squared Error of 9 variable PCA: 0.01589472101029698\n"
          ]
        }
      ]
    },
    {
      "cell_type": "markdown",
      "source": [
        "The most accurate K for PCA according to my model is 2 variables for an MSE (mean squared error) of 0.0129"
      ],
      "metadata": {
        "id": "2UuVgxDBqfGC"
      }
    },
    {
      "cell_type": "markdown",
      "source": [
        "Q2.4)\n",
        "\n",
        "Explore different kernel tricks to capture non-linearities within your data. Plot the results and compare the accuracies for different kernels.\n",
        "\n",
        "(Too many variables to plot)"
      ],
      "metadata": {
        "id": "vGdmEPRErriH"
      }
    },
    {
      "cell_type": "code",
      "source": [
        "#Use RBF and poly to capture non-linearities\n",
        "y_rbf_two_var = svr_rbf.fit(two_var_PCA_train, y_train).predict(two_var_PCA_test)\n",
        "y_poly_two_var = svr_poly.fit(two_var_PCA_train, y_train).predict(two_var_PCA_test)\n",
        "\n",
        "mse_rbf = mean_squared_error(y_test, y_rbf_two_var)\n",
        "mse_poly = mean_squared_error(y_test, y_poly_two_var)\n",
        "\n",
        "print(\"Mean Squared Error of 2 variable RBF:\", mse_rbf)\n",
        "print(\"Mean Squared Error of 2 variable poly:\", mse_poly)"
      ],
      "metadata": {
        "id": "nLl0TVE5843y",
        "colab": {
          "base_uri": "https://localhost:8080/"
        },
        "outputId": "fe9a0e42-cd5d-404c-c486-485d9a982d04"
      },
      "execution_count": 322,
      "outputs": [
        {
          "output_type": "stream",
          "name": "stderr",
          "text": [
            "/usr/local/lib/python3.10/dist-packages/sklearn/utils/validation.py:1143: DataConversionWarning: A column-vector y was passed when a 1d array was expected. Please change the shape of y to (n_samples, ), for example using ravel().\n",
            "  y = column_or_1d(y, warn=True)\n",
            "/usr/local/lib/python3.10/dist-packages/sklearn/utils/validation.py:1143: DataConversionWarning: A column-vector y was passed when a 1d array was expected. Please change the shape of y to (n_samples, ), for example using ravel().\n",
            "  y = column_or_1d(y, warn=True)\n"
          ]
        },
        {
          "output_type": "stream",
          "name": "stdout",
          "text": [
            "Mean Squared Error of 2 variable RBF: 0.013907778396967465\n",
            "Mean Squared Error of 2 variable poly: 0.017562238485501952\n"
          ]
        }
      ]
    },
    {
      "cell_type": "markdown",
      "source": [
        "Neither kernel provided a lower MSE than the linear evaluation"
      ],
      "metadata": {
        "id": "SXo8cbpEtcXj"
      }
    }
  ]
}